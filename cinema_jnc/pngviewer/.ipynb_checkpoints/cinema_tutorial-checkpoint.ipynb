{
 "cells": [
  {
   "cell_type": "code",
   "execution_count": 30,
   "metadata": {
    "scrolled": true
   },
   "outputs": [
    {
     "data": {
      "application/vnd.jupyter.widget-view+json": {
       "model_id": "5a5d0ce76e1740d28d7dd14fdbb97b6a",
       "version_major": 2,
       "version_minor": 0
      },
      "text/plain": [
       "VBox(children=(Output(layout=Layout(border='0px solid black', width='98%')), HBox(children=(Output(layout=Layo…"
      ]
     },
     "metadata": {},
     "output_type": "display_data"
    }
   ],
   "source": [
    "import cinemasci\n",
    "\n",
    "viewer = cinemasci.pynb.CinemaViewer()\n",
    "\n",
    "viewer.setUIValues({'image size': 200})\n",
    "viewer.hideParameterControl('producer')\n",
    "\n",
    "# create a viewer object\n",
    "viewer.setLayoutToHorizontal()\n",
    "# optionally set the height of the viewer\n",
    "viewer.setHeight(200)\n",
    "my_cdb = \"/Users/tlturton/scTutorial/data/nyx_volume.cdb\"\n",
    "\n",
    "viewer.load(my_cdb)"
   ]
  },
  {
   "cell_type": "code",
   "execution_count": 31,
   "metadata": {},
   "outputs": [
    {
     "data": {
      "application/vnd.jupyter.widget-view+json": {
       "model_id": "189ec3218b4e4da1abcce9320eb2d26c",
       "version_major": 2,
       "version_minor": 0
      },
      "text/plain": [
       "VBox(children=(Output(layout=Layout(border='0px solid black', width='98%')), HBox(children=(Output(layout=Layo…"
      ]
     },
     "metadata": {},
     "output_type": "display_data"
    }
   ],
   "source": [
    "viewerS = cinemasci.pynb.CinemaViewer()\n",
    "\n",
    "viewerS.setUIValues({'image size': 200})\n",
    "viewerS.hideParameterControl('producer')\n",
    "\n",
    "# create a viewer object\n",
    "viewerS.setLayoutToHorizontal()\n",
    "# optionally set the height of the viewer\n",
    "viewerS.setHeight(200)\n",
    "my_slice_cdb = \"./data/nyx_slice.cdb/\"\n",
    "viewerS.load(my_slice_cdb)"
   ]
  },
  {
   "cell_type": "code",
   "execution_count": 33,
   "metadata": {},
   "outputs": [],
   "source": [
    "import os\n",
    "import cv2\n",
    "import pandas as pd\n",
    "from skimage import io\n",
    "from skimage import color\n",
    "from skimage import feature\n",
    "import numpy as np\n",
    "\n",
    "# Load the data.csv from the nyx_slices CDB into a dataframe\n",
    "data_csv = my_slice_cdb + \"data.csv\"\n",
    "dfslices = pd.read_csv(data_csv)\n",
    "\n",
    "# Need a set of lists to create the new columns for the dataframe / eventual updated CDB\n",
    "imgMean = []\n",
    "imgStDev = []\n",
    "grayFILE = []\n",
    "cannyFILE = []\n",
    "contoursFILE = []\n",
    "\n",
    "# Set up variables for the Canny edge detection\n",
    "lower_threshold = 5\n",
    "upper_threshold = 200\n",
    "sobel_size = 3\n",
    "\n",
    "# Set up variables for the contours\n",
    "cthreshold = 45\n",
    "thickness = 2\n",
    "color = [200,200,200]\n",
    "\n",
    "# Cycle through the CDB slices\n",
    "for f in dfslices['FILE'] :\n",
    "    # Load each image and convert to a grayscale image\n",
    "    imgpath = my_slice_cdb + f\n",
    "    src = cv2.imread(imgpath)   # original color image\n",
    "    imggray = cv2.cvtColor(src, cv2.COLOR_BGR2GRAY ) # grayscale image\n",
    "    \n",
    "    # Save grayscale image to disk and save (relative) path/name to list of grayscale image names\n",
    "    grayfile = imgpath.replace('.png' ,'_gray.png')\n",
    "    cv2.imwrite(grayfile, imggray)\n",
    "    grayFILE.append(f.replace('.png' ,'_gray.png'))\n",
    "    \n",
    "    # Calculate some basic statistics on the grayscale images and add to respective lists\n",
    "    imgMean.append(np.mean(io.imread(grayfile), (0,1)) )\n",
    "    imgStDev.append(np.std(io.imread(grayfile), (0,1)) )\n",
    " \n",
    "    # Do some Canny edge detection, again saving the new image and adding new path/name to a list\n",
    "    imgCannyEdges = cv2.Canny(imggray, lower_threshold, upper_threshold, apertureSize=sobel_size, L2gradient=False)\n",
    "    cannyfile = imgpath.replace('.png', '_canny_edge.png')\n",
    "    cv2.imwrite(cannyfile, imgCannyEdges)\n",
    "    cannyFILE.append(f.replace('.png', '_canny_edge.png'))\n",
    "    \n",
    "    # Find some contours, again saving the new image and adding new path/name to a list\n",
    "    ret, binary = cv2.threshold(imggray, cthreshold, 255, cv2.THRESH_BINARY)\n",
    "    contours, hierarchy = cv2.findContours(binary, cv2.RETR_TREE, cv2.CHAIN_APPROX_SIMPLE)\n",
    "    imgContours = cv2.drawContours(src, contours, -1, (color[2], color[1], color[0]), thickness)\n",
    "    contoursfile = imgpath.replace('.png' ,'_contours.png')\n",
    "    cv2.imwrite(contoursfile, imgContours)\n",
    "    contoursFILE.append(f.replace('.png', '_contours.png'))\n",
    "    "
   ]
  },
  {
   "cell_type": "code",
   "execution_count": 38,
   "metadata": {},
   "outputs": [],
   "source": [
    "# Update the dataframe witwh the new columns and reorder to fit Cinema Specification\n",
    "dfslices['FILE_gray'] = grayFILE\n",
    "dfslices['FILE_canny_edge'] = cannyFILE\n",
    "dfslices['Mean'] = imgMean\n",
    "dfslices['StdDev'] = imgStDev\n",
    "dfslices['FILE_contours'] = contoursFILE\n",
    "\n",
    "dfslices = dfslices[['timestep', 'slice', 'Mean', 'StdDev', 'FILE', 'FILE_gray', 'FILE_canny_edge', 'FILE_contours']]\n",
    "#print (dfslices)"
   ]
  },
  {
   "cell_type": "code",
   "execution_count": 46,
   "metadata": {},
   "outputs": [],
   "source": [
    "import random \n",
    "\n",
    "# Write out a new data.csv (move old data.csv to randomized name)\n",
    "suffix = str(random.randrange(1000000, 9999999))\n",
    "old_data_csv = my_slice_cdb + \"data_\" + suffix + \".csv\" \n",
    "os.rename(data_csv, old_data_csv)\n",
    "print (old_data_csv, data_csv)"
   ]
  },
  {
   "cell_type": "code",
   "execution_count": null,
   "metadata": {},
   "outputs": [],
   "source": [
    "#dfslices.to_csv(data_csv)"
   ]
  }
 ],
 "metadata": {
  "kernelspec": {
   "display_name": "Python 3",
   "language": "python",
   "name": "python3"
  },
  "language_info": {
   "codemirror_mode": {
    "name": "ipython",
    "version": 3
   },
   "file_extension": ".py",
   "mimetype": "text/x-python",
   "name": "python",
   "nbconvert_exporter": "python",
   "pygments_lexer": "ipython3",
   "version": "3.7.7"
  }
 },
 "nbformat": 4,
 "nbformat_minor": 4
}
