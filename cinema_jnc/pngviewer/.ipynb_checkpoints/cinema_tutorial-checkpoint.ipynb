{
 "cells": [
  {
   "cell_type": "code",
   "execution_count": 1,
   "metadata": {
    "scrolled": true
   },
   "outputs": [
    {
     "data": {
      "application/vnd.jupyter.widget-view+json": {
       "model_id": "c9f732131eaf4131a5fec0bd268eac10",
       "version_major": 2,
       "version_minor": 0
      },
      "text/plain": [
       "VBox(children=(Output(layout=Layout(border='0px solid black', width='98%')), HBox(children=(Output(layout=Layo…"
      ]
     },
     "metadata": {},
     "output_type": "display_data"
    }
   ],
   "source": [
    "import cinemasci\n",
    "\n",
    "viewer = cinemasci.pynb.CinemaViewer()\n",
    "\n",
    "viewer.setUIValues({'image size': 200})\n",
    "viewer.hideParameterControl('producer')\n",
    "\n",
    "# create a viewer object\n",
    "viewer.setLayoutToHorizontal()\n",
    "# optionally set the height of the viewer\n",
    "viewer.setHeight(200)\n",
    "my_cdb = \"/Users/tlturton/scTutorial/data/nyx_volume.cdb\"\n",
    "\n",
    "viewer.load(my_cdb)"
   ]
  },
  {
   "cell_type": "code",
   "execution_count": 3,
   "metadata": {},
   "outputs": [
    {
     "data": {
      "application/vnd.jupyter.widget-view+json": {
       "model_id": "3f42b91f995d4edbb0f1b9063f323cc7",
       "version_major": 2,
       "version_minor": 0
      },
      "text/plain": [
       "VBox(children=(Output(layout=Layout(border='0px solid black', width='98%')), HBox(children=(Output(layout=Layo…"
      ]
     },
     "metadata": {},
     "output_type": "display_data"
    }
   ],
   "source": [
    "viewerS = cinemasci.pynb.CinemaViewer()\n",
    "\n",
    "viewerS.setUIValues({'image size': 200})\n",
    "viewerS.hideParameterControl('producer')\n",
    "\n",
    "# create a viewer object\n",
    "viewerS.setLayoutToHorizontal()\n",
    "# optionally set the height of the viewer\n",
    "viewerS.setHeight(200)\n",
    "my_slice_cdb = \"./data/nyx_slice.cdb/\"\n",
    "viewerS.load(my_slice_cdb)"
   ]
  },
  {
   "cell_type": "code",
   "execution_count": 5,
   "metadata": {},
   "outputs": [
    {
     "name": "stdout",
     "output_type": "stream",
     "text": [
      "    timestep  slice       Mean     StdDev         FILE         FILE_gray  \\\n",
      "0          0     12  62.953167  21.069019   12/0.0.png   12/0.0_gray.png   \n",
      "1          1     12  34.880493  15.002611   12/1.0.png   12/1.0_gray.png   \n",
      "2          2     12  36.846796  16.437308   12/2.0.png   12/2.0_gray.png   \n",
      "3          3     12  38.070103  17.217593   12/3.0.png   12/3.0_gray.png   \n",
      "4          4     12  40.657797  17.770748   12/4.0.png   12/4.0_gray.png   \n",
      "5          5     12  32.758308  14.458196   12/5.0.png   12/5.0_gray.png   \n",
      "6          6     12  31.613279  14.768284   12/6.0.png   12/6.0_gray.png   \n",
      "7          7     12  31.683474  14.929485   12/7.0.png   12/7.0_gray.png   \n",
      "8          8     12  31.737105  15.165868   12/8.0.png   12/8.0_gray.png   \n",
      "9          9     12  31.632558  15.228600   12/9.0.png   12/9.0_gray.png   \n",
      "10        10     12  31.463484  15.345075  12/10.0.png  12/10.0_gray.png   \n",
      "11        11     12  31.262203  15.416224  12/11.0.png  12/11.0_gray.png   \n",
      "12        12     12  30.728007  15.233714  12/12.0.png  12/12.0_gray.png   \n",
      "13        13     12  30.508016  15.372966  12/13.0.png  12/13.0_gray.png   \n",
      "14        14     12  23.320427  11.591432  12/14.0.png  12/14.0_gray.png   \n",
      "15        15     12  23.197143  11.524897  12/15.0.png  12/15.0_gray.png   \n",
      "16        16     12  23.080246  11.497321  12/16.0.png  12/16.0_gray.png   \n",
      "17        17     12  22.913977  11.485062  12/17.0.png  12/17.0_gray.png   \n",
      "18         0      7  55.488873  20.162040    7/0.0.png    7/0.0_gray.png   \n",
      "19         1      7  34.609167  14.390937    7/1.0.png    7/1.0_gray.png   \n",
      "20         2      7  25.251767  11.780485    7/2.0.png    7/2.0_gray.png   \n",
      "21         3      7  25.957466  12.532676    7/3.0.png    7/3.0_gray.png   \n",
      "22         4      7  26.057085  12.846879    7/4.0.png    7/4.0_gray.png   \n",
      "23         5      7  27.034793  13.290010    7/5.0.png    7/5.0_gray.png   \n",
      "24         6      7  25.699123  12.831011    7/6.0.png    7/6.0_gray.png   \n",
      "25         7      7  25.842246  13.307088    7/7.0.png    7/7.0_gray.png   \n",
      "26         8      7  26.488896  13.547974    7/8.0.png    7/8.0_gray.png   \n",
      "27         9      7  26.394500  13.665719    7/9.0.png    7/9.0_gray.png   \n",
      "28        10      7  25.401243  13.652389   7/10.0.png   7/10.0_gray.png   \n",
      "29        11      7  25.147705  13.853663   7/11.0.png   7/11.0_gray.png   \n",
      "30        12      7  25.329124  14.334251   7/12.0.png   7/12.0_gray.png   \n",
      "31        13      7  23.901767  13.971568   7/13.0.png   7/13.0_gray.png   \n",
      "32        14      7  20.337092  12.066011   7/14.0.png   7/14.0_gray.png   \n",
      "33        15      7  19.967467  12.242004   7/15.0.png   7/15.0_gray.png   \n",
      "34        16      7  20.873126  12.444236   7/16.0.png   7/16.0_gray.png   \n",
      "35        17      7  20.750361  12.546554   7/17.0.png   7/17.0_gray.png   \n",
      "\n",
      "           FILE_canny_edge  \n",
      "0    12/0.0_canny_edge.png  \n",
      "1    12/1.0_canny_edge.png  \n",
      "2    12/2.0_canny_edge.png  \n",
      "3    12/3.0_canny_edge.png  \n",
      "4    12/4.0_canny_edge.png  \n",
      "5    12/5.0_canny_edge.png  \n",
      "6    12/6.0_canny_edge.png  \n",
      "7    12/7.0_canny_edge.png  \n",
      "8    12/8.0_canny_edge.png  \n",
      "9    12/9.0_canny_edge.png  \n",
      "10  12/10.0_canny_edge.png  \n",
      "11  12/11.0_canny_edge.png  \n",
      "12  12/12.0_canny_edge.png  \n",
      "13  12/13.0_canny_edge.png  \n",
      "14  12/14.0_canny_edge.png  \n",
      "15  12/15.0_canny_edge.png  \n",
      "16  12/16.0_canny_edge.png  \n",
      "17  12/17.0_canny_edge.png  \n",
      "18    7/0.0_canny_edge.png  \n",
      "19    7/1.0_canny_edge.png  \n",
      "20    7/2.0_canny_edge.png  \n",
      "21    7/3.0_canny_edge.png  \n",
      "22    7/4.0_canny_edge.png  \n",
      "23    7/5.0_canny_edge.png  \n",
      "24    7/6.0_canny_edge.png  \n",
      "25    7/7.0_canny_edge.png  \n",
      "26    7/8.0_canny_edge.png  \n",
      "27    7/9.0_canny_edge.png  \n",
      "28   7/10.0_canny_edge.png  \n",
      "29   7/11.0_canny_edge.png  \n",
      "30   7/12.0_canny_edge.png  \n",
      "31   7/13.0_canny_edge.png  \n",
      "32   7/14.0_canny_edge.png  \n",
      "33   7/15.0_canny_edge.png  \n",
      "34   7/16.0_canny_edge.png  \n",
      "35   7/17.0_canny_edge.png  \n"
     ]
    }
   ],
   "source": [
    "import os\n",
    "import cv2\n",
    "import pandas as pd\n",
    "from skimage import io\n",
    "from skimage import color\n",
    "from skimage import feature\n",
    "import numpy as np\n",
    "\n",
    "data_csv = my_slice_cdb + \"/data.csv\"\n",
    "dfslices = pd.read_csv(data_csv)\n",
    "imgMean = []\n",
    "imgStDev = []\n",
    "grayFILE = []\n",
    "cannyFILE = []\n",
    "lower_threshold = 5\n",
    "upper_threshold = 70\n",
    "sobel_size = 3\n",
    "for f in dfslices['FILE'] :\n",
    "    imgpath = my_slice_cdb + f\n",
    "    src = cv2.imread(imgpath)   # original color image\n",
    "    img = cv2.cvtColor(src, cv2.COLOR_BGR2GRAY ) # grayscale image\n",
    "    grayfile = imgpath.replace('.png' ,'_gray.png')\n",
    "    cv2.imwrite(grayfile, img)\n",
    "    grayFILE.append(f.replace('.png' ,'_gray.png'))\n",
    "    imgMean.append( np.mean(io.imread(grayfile), (0,1)) )\n",
    "    imgStDev.append( np.std(io.imread(grayfile), (0,1)) )\n",
    " \n",
    "    imgCannyEdges = cv2.Canny(img, lower_threshold, upper_threshold, apertureSize=sobel_size, L2gradient=False)\n",
    "    cannyfile = imgpath.replace('.png', '_canny_edge.png')\n",
    "    cv2.imwrite(cannyfile, imgCannyEdges)\n",
    "    cannyFILE.append(f.replace('.png', '_canny_edge.png'))\n",
    "    \n",
    "dfslices['FILE_gray'] = grayFILE\n",
    "dfslices['FILE_canny_edge'] = cannyFILE\n",
    "dfslices['Mean'] = imgMean\n",
    "dfslices['StdDev'] = imgStDev\n",
    "dfslices = dfslices[['timestep', 'slice', 'Mean', 'StdDev', 'FILE', 'FILE_gray', 'FILE_canny_edge']]\n",
    "print (dfslices)\n"
   ]
  },
  {
   "cell_type": "code",
   "execution_count": null,
   "metadata": {},
   "outputs": [],
   "source": []
  }
 ],
 "metadata": {
  "kernelspec": {
   "display_name": "Python 3",
   "language": "python",
   "name": "python3"
  },
  "language_info": {
   "codemirror_mode": {
    "name": "ipython",
    "version": 3
   },
   "file_extension": ".py",
   "mimetype": "text/x-python",
   "name": "python",
   "nbconvert_exporter": "python",
   "pygments_lexer": "ipython3",
   "version": "3.7.7"
  }
 },
 "nbformat": 4,
 "nbformat_minor": 4
}
