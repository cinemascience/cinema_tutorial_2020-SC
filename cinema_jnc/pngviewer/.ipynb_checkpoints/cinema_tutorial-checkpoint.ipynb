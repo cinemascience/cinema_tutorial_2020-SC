{
 "cells": [
  {
   "cell_type": "code",
   "execution_count": 20,
   "metadata": {
    "scrolled": true
   },
   "outputs": [
    {
     "data": {
      "application/vnd.jupyter.widget-view+json": {
       "model_id": "6a3027ed50fa479c8c0c7ca35f55f0bf",
       "version_major": 2,
       "version_minor": 0
      },
      "text/plain": [
       "VBox(children=(Output(layout=Layout(border='0px solid black', width='98%')), HBox(children=(Output(layout=Layo…"
      ]
     },
     "metadata": {},
     "output_type": "display_data"
    }
   ],
   "source": [
    "import cinemasci\n",
    "import cinemasci.pynb \n",
    "import os\n",
    "\n",
    "# # create a viewer object\n",
    "viewer = cinemasci.pynb.CinemaViewer()\n",
    "viewer.setUIValues({'image size': 200})\n",
    "viewer.hideParameterControl('producer')\n",
    "\n",
    "my_cdb = \"data/nyx_volume.cdb\"\n",
    "viewer.load(my_cdb)\n"
   ]
  },
  {
   "cell_type": "code",
   "execution_count": 21,
   "metadata": {},
   "outputs": [
    {
     "data": {
      "application/vnd.jupyter.widget-view+json": {
       "model_id": "1365ab045b6d4e50ad04c38f6259d51f",
       "version_major": 2,
       "version_minor": 0
      },
      "text/plain": [
       "VBox(children=(Output(layout=Layout(border='0px solid black', width='98%')), HBox(children=(Output(layout=Layo…"
      ]
     },
     "metadata": {},
     "output_type": "display_data"
    }
   ],
   "source": [
    "# Note: assumes previous cell has been run\n",
    "import shutil\n",
    "\n",
    "# Are we rerunning the workflow?  If so, remove old output database to generate new images and data.csv.\n",
    "clean_slice = \"data/nyx_clean_slice.cdb\"\n",
    "my_slice_cdb = \"data/nyx_slice.cdb/\"\n",
    "  \n",
    "try:\n",
    "    shutil.rmtree(my_slice_cdb)\n",
    "except OSError as e:\n",
    "    print(\"Need a working CDB: %s : %s\" % (my_slice_cdb, \"Creating nyx_slice.cdb\"))\n",
    "shutil.copytree(clean_slice, my_slice_cdb) \n",
    "\n",
    "# create a viewer object\n",
    "viewerS = cinemasci.pynb.CinemaViewer()\n",
    "viewerS.setUIValues({'image size': 200})\n",
    "viewerS.load(my_slice_cdb)"
   ]
  },
  {
   "cell_type": "code",
   "execution_count": 14,
   "metadata": {},
   "outputs": [
    {
     "name": "stdout",
     "output_type": "stream",
     "text": [
      "Making new images...\n",
      "New images now available\n"
     ]
    }
   ],
   "source": [
    "import cv2\n",
    "import pandas as pd\n",
    "from skimage import io\n",
    "from skimage import color\n",
    "from skimage import feature\n",
    "import numpy as np\n",
    "\n",
    "# Load the data.csv from the nyx_slices CDB into a dataframe\n",
    "data_csv = my_slice_cdb + \"data.csv\"\n",
    "dfslices = pd.read_csv(data_csv)\n",
    "\n",
    "# Need a set of lists to create the new columns for the dataframe / eventual updated CDB\n",
    "imgMean = []\n",
    "imgStDev = []\n",
    "grayFILE = []\n",
    "cannyFILE = []\n",
    "contoursFILE = []\n",
    "\n",
    "# Set up variables for the Canny edge detection\n",
    "lower_threshold = 5\n",
    "upper_threshold = 200\n",
    "sobel_size = 3\n",
    "bins = 131072\n",
    "\n",
    "# Set up variables for the contours\n",
    "cthreshold = 45\n",
    "thickness = 2\n",
    "color = [200,200,200]\n",
    "\n",
    "# Cycle through the CDB slices\n",
    "print ('Making new images...')\n",
    "for f in dfslices['FILE'] :\n",
    "    # Load each image and convert to a grayscale image\n",
    "    imgpath = my_slice_cdb + f\n",
    "    print(imgpath)\n",
    "    src = cv2.imread(imgpath)   # original color image\n",
    "    imggray = cv2.cvtColor(src, cv2.COLOR_BGR2GRAY ) # grayscale image\n",
    "    \n",
    "    # Save grayscale image to disk and save (relative) path/name to list of grayscale image names\n",
    "    grayfile = imgpath.replace('.png' ,'_gray.png')\n",
    "    cv2.imwrite(grayfile, imggray)\n",
    "    grayFILE.append(f.replace('.png' ,'_gray.png'))\n",
    "    \n",
    "    # Calculate some basic statistics on the grayscale images and add to respective lists\n",
    "    imgMean.append(np.mean(io.imread(grayfile), (0,1)) )\n",
    "    imgStDev.append(np.std(io.imread(grayfile), (0,1)) )\n",
    "    \n",
    "    #Calculate the shannon entropy on the grayscale images and add to respective lists\n",
    "    histogram = np.histogram(im, bins)[0]\n",
    "    histogram = histogram / float(np.sum(histogram))\n",
    "    s_entropy = -np.sum(histogram * np.log2(histogram, where=histogram > 0)) \n",
    "    \n",
    " \n",
    "    # Do some Canny edge detection, again saving the new image and adding new path/name to a list\n",
    "    imgCannyEdges = cv2.Canny(imggray, lower_threshold, upper_threshold, apertureSize=sobel_size, L2gradient=False)\n",
    "    cannyfile = imgpath.replace('.png', '_canny_edge.png')\n",
    "    cv2.imwrite(cannyfile, imgCannyEdges)\n",
    "    cannyFILE.append(f.replace('.png', '_canny_edge.png'))\n",
    "    \n",
    "    # Find some contours, again saving the new image and adding new path/name to a list\n",
    "    ret, binary = cv2.threshold(imggray, cthreshold, 255, cv2.THRESH_BINARY)\n",
    "    contours, hierarchy = cv2.findContours(binary, cv2.RETR_TREE, cv2.CHAIN_APPROX_SIMPLE)\n",
    "    imgContours = cv2.drawContours(src, contours, -1, (color[2], color[1], color[0]), thickness)\n",
    "    contoursfile = imgpath.replace('.png' ,'_contours.png')\n",
    "    cv2.imwrite(contoursfile, imgContours)\n",
    "    contoursFILE.append(f.replace('.png', '_contours.png'))\n",
    " \n",
    "print (\"New images now available\")"
   ]
  },
  {
   "cell_type": "code",
   "execution_count": 17,
   "metadata": {},
   "outputs": [],
   "source": [
    "# Update the dataframe witwh the new columns and reorder to fit Cinema Specification\n",
    "dfslices['FILE_gray'] = grayFILE\n",
    "dfslices['FILE_canny_edge'] = cannyFILE\n",
    "dfslices['Mean'] = imgMean\n",
    "dfslices['StdDev'] = imgStDev\n",
    "dfslices['FILE_contours'] = contoursFILE\n",
    "\n",
    "dfslices = dfslices[['timestep', 'slice', 'Mean', 'StdDev', 'FILE', 'FILE_gray', 'FILE_canny_edge', 'FILE_contours']]\n"
   ]
  },
  {
   "cell_type": "code",
   "execution_count": 18,
   "metadata": {},
   "outputs": [],
   "source": [
    "\n",
    "# Write out the new data.csv \n",
    "dfslices.to_csv(data_csv, index=False)"
   ]
  },
  {
   "cell_type": "code",
   "execution_count": 11,
   "metadata": {},
   "outputs": [
    {
     "name": "stdout",
     "output_type": "stream",
     "text": [
      "Remember to start the cinemasci.server first: \n",
      "python -m cinemasci.server --viewer view --data data/nyx_volume.cdb --port 8200\n"
     ]
    },
    {
     "data": {
      "text/plain": [
       "0"
      ]
     },
     "execution_count": 11,
     "metadata": {},
     "output_type": "execute_result"
    }
   ],
   "source": [
    "# start a server to view the Nyx databases\n",
    "import cinemasci.server \n",
    "print('Remember to start the cinemasci.server first: ')\n",
    "print( 'python -m cinemasci.server --viewer view --data data/nyx_volume.cdb --port 8200' )\n",
    "os.system('open -a Firefox ./nyx_databases.html')"
   ]
  },
  {
   "cell_type": "code",
   "execution_count": null,
   "metadata": {},
   "outputs": [],
   "source": []
  }
 ],
 "metadata": {
  "kernelspec": {
   "display_name": "Python 3",
   "language": "python",
   "name": "python3"
  },
  "language_info": {
   "codemirror_mode": {
    "name": "ipython",
    "version": 3
   },
   "file_extension": ".py",
   "mimetype": "text/x-python",
   "name": "python",
   "nbconvert_exporter": "python",
   "pygments_lexer": "ipython3",
   "version": "3.8.3"
  }
 },
 "nbformat": 4,
 "nbformat_minor": 4
}
